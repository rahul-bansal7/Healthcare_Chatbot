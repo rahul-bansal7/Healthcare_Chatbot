{
  "nbformat": 4,
  "nbformat_minor": 0,
  "metadata": {
    "colab": {
      "name": "Healthcare_Chatbot.ipynb",
      "provenance": [],
      "collapsed_sections": [],
      "authorship_tag": "ABX9TyPif+PWaeOVH3+W4rKrGH+0",
      "include_colab_link": true
    },
    "kernelspec": {
      "name": "python3",
      "display_name": "Python 3"
    },
    "language_info": {
      "name": "python"
    }
  },
  "cells": [
    {
      "cell_type": "markdown",
      "metadata": {
        "id": "view-in-github",
        "colab_type": "text"
      },
      "source": [
        "<a href=\"https://colab.research.google.com/github/ratneshpuri/Healthcare_Chatbot/blob/master/Healthcare_Chatbot.ipynb\" target=\"_parent\"><img src=\"https://colab.research.google.com/assets/colab-badge.svg\" alt=\"Open In Colab\"/></a>"
      ]
    },
    {
      "cell_type": "code",
      "metadata": {
        "id": "QQkc8KnAj1VD"
      },
      "source": [
        "import nltk\n",
        "import numpy as np\n",
        "import re"
      ],
      "execution_count": null,
      "outputs": []
    },
    {
      "cell_type": "code",
      "metadata": {
        "colab": {
          "base_uri": "https://localhost:8080/"
        },
        "id": "0q1D9QCkjtiv",
        "outputId": "9da18765-2e7d-41b9-a253-56bf82770948"
      },
      "source": [
        "nltk.download('punkt') # downloading model to tokenize message\n",
        "from nltk.tokenize import word_tokenize"
      ],
      "execution_count": null,
      "outputs": [
        {
          "output_type": "stream",
          "name": "stdout",
          "text": [
            "[nltk_data] Downloading package punkt to /root/nltk_data...\n",
            "[nltk_data]   Package punkt is already up-to-date!\n"
          ]
        }
      ]
    },
    {
      "cell_type": "code",
      "metadata": {
        "colab": {
          "base_uri": "https://localhost:8080/"
        },
        "id": "Dtq8MIyvj3N0",
        "outputId": "b6db1f3c-cf19-4135-e3e8-a658bb179825"
      },
      "source": [
        "nltk.download('stopwords') # downloading stopwords\n",
        "from nltk.corpus import stopwords"
      ],
      "execution_count": null,
      "outputs": [
        {
          "output_type": "stream",
          "name": "stdout",
          "text": [
            "[nltk_data] Downloading package stopwords to /root/nltk_data...\n",
            "[nltk_data]   Package stopwords is already up-to-date!\n"
          ]
        }
      ]
    },
    {
      "cell_type": "markdown",
      "metadata": {
        "id": "9-r8WjaTUIKr"
      },
      "source": [
        ""
      ]
    },
    {
      "cell_type": "code",
      "metadata": {
        "colab": {
          "base_uri": "https://localhost:8080/"
        },
        "id": "7dUH8zNXj8_j",
        "outputId": "57c35850-dfa1-4e22-c5be-44c9deec3462"
      },
      "source": [
        "nltk.download('wordnet') # downloading all lemmas of english language\n",
        "from nltk.stem import WordNetLemmatizer\n",
        "lm=WordNetLemmatizer()"
      ],
      "execution_count": null,
      "outputs": [
        {
          "output_type": "stream",
          "name": "stdout",
          "text": [
            "[nltk_data] Downloading package wordnet to /root/nltk_data...\n",
            "[nltk_data]   Package wordnet is already up-to-date!\n"
          ]
        }
      ]
    },
    {
      "cell_type": "code",
      "metadata": {
        "id": "AjOnkNE8j_FE"
      },
      "source": [
        "def clean_corpus(data):\n",
        "  corpus=[]\n",
        "  for i in data:\n",
        "    review=re.sub('[^a-zA-Z]',' ',i)\n",
        "    review=review.lower()\n",
        "    review=review.split()\n",
        "    review=[lm.lemmatize(word) for word in review if not word in set(stopwords.words('english'))]\n",
        "    review=' '.join(review)\n",
        "    corpus.append(review)\n",
        "  return corpus"
      ],
      "execution_count": null,
      "outputs": []
    },
    {
      "cell_type": "code",
      "metadata": {
        "id": "-pWa7eKfkKTn"
      },
      "source": [
        "import json\n",
        "with open('/content/health.json') as file:\n",
        "    intents = json.load(file)"
      ],
      "execution_count": null,
      "outputs": []
    },
    {
      "cell_type": "code",
      "metadata": {
        "id": "6BWUCdZwkX-Z"
      },
      "source": [
        "corpus = []\n",
        "tags = []\n",
        "for intent in intents['intents']:\n",
        "    # taking all patterns in intents to train a neural network\n",
        "    for pattern in intent['patterns']:\n",
        "        corpus.append(pattern)\n",
        "        tags.append(intent['tag'])\n",
        "\n",
        "cleaned_corpus=clean_corpus(corpus)\n",
        "from sklearn.feature_extraction.text import TfidfVectorizer\n",
        "vectorizer = TfidfVectorizer()\n",
        "X = vectorizer.fit_transform(cleaned_corpus)"
      ],
      "execution_count": null,
      "outputs": []
    },
    {
      "cell_type": "code",
      "metadata": {
        "colab": {
          "base_uri": "https://localhost:8080/"
        },
        "id": "3de3LG-Dlqxj",
        "outputId": "0faadeff-6d5e-4e21-d81d-e9ecaa9bca17"
      },
      "source": [
        "print(corpus)\n",
        "len(tags)\n",
        "print(len(corpus))\n",
        "print(cleaned_corpus)"
      ],
      "execution_count": null,
      "outputs": [
        {
          "output_type": "stream",
          "name": "stdout",
          "text": [
            "['Hi', 'How are you', 'Is there anyone?', ' Hello', 'Good Day', \"What's up?\", 'Bye', 'See you later!', 'Goodbye!', 'Thank you', 'Thanks', 'Thank you', \"That's helpful\", \"Thank's a lot!\", 'What do you do?', 'Who are you?', 'What are you here for?', 'What can you help me with?', 'Is anyone there?', 'Are you a real person?', 'Tell me about yourself!', 'I think I have anxiety', 'What is anxiety?', 'Tell me about anxiety', 'Can I have some information about anxiety?', 'How do I support a loved one with anxiety?', 'How do I fix my anxiety?', 'What other common signs and symptoms may occur with anxiety?', 'Symptoms of anxiety', 'signs of anxiety', 'What can I do to manage anxiety?', 'How to deal anxiety', 'How to overcome anxiety?', 'When should I call my doctor regarding anxity?', 'When should I take medical help to overcome anxiety', 'I think I have depression', 'What is depression?', 'Tell me about depression', 'Can I have some information about depression?', 'How do I support a loved one with depression?', 'How do I fix my depression?', 'Cause of depression', 'How does one get depressed', 'Symptoms of depression', 'Signs of depression', 'Hoe ot know if a person is depressed', 'What can I do to manage depression?', 'How to deal depression', 'How to overcome depression?', 'I think I have schizophrenia', 'What is schizophrenia?', 'Tell me about schizophrenia', 'Can I have some information about schizophrenia?', 'How do I support a loved one with schizophrenia?', 'How do I fix my schizophrenia?', 'Tell me a joke!', 'Tell me something funny!', 'Do you know a joke?', 'What is an allergy?', 'Tell me something allergy', 'About allergy', 'Cause of allergy', 'What causes allergy', 'How does allergy happen?', 'Who all are at risk of allergy', 'Am I at risk of allergy', 'Can allergy happen to me', 'How to treat allergy', 'Treatment of allergy', 'How to overcome allergy', 'What is fungal infection', 'Tell me about fungal infection', 'About fungal infection', 'Cause of fungal infection', 'What are symptoms of fungal infection', 'Symptoms of fungal infection', 'types of fungal infection', 'Different types of fungal infection', 'Fungal infection treatments', 'How to overcome fungal infection', 'treatment for fungal infection', 'How to prevent fungal infection', 'Preventions for fungal infection', 'Prevent fungal infection']\n",
            "84\n",
            "['hi', '', 'anyone', 'hello', 'good day', '', 'bye', 'see later', 'goodbye', 'thank', 'thanks', 'thank', 'helpful', 'thank lot', '', '', '', 'help', 'anyone', 'real person', 'tell', 'think anxiety', 'anxiety', 'tell anxiety', 'information anxiety', 'support loved one anxiety', 'fix anxiety', 'common sign symptom may occur anxiety', 'symptom anxiety', 'sign anxiety', 'manage anxiety', 'deal anxiety', 'overcome anxiety', 'call doctor regarding anxity', 'take medical help overcome anxiety', 'think depression', 'depression', 'tell depression', 'information depression', 'support loved one depression', 'fix depression', 'cause depression', 'one get depressed', 'symptom depression', 'sign depression', 'hoe ot know person depressed', 'manage depression', 'deal depression', 'overcome depression', 'think schizophrenia', 'schizophrenia', 'tell schizophrenia', 'information schizophrenia', 'support loved one schizophrenia', 'fix schizophrenia', 'tell joke', 'tell something funny', 'know joke', 'allergy', 'tell something allergy', 'allergy', 'cause allergy', 'cause allergy', 'allergy happen', 'risk allergy', 'risk allergy', 'allergy happen', 'treat allergy', 'treatment allergy', 'overcome allergy', 'fungal infection', 'tell fungal infection', 'fungal infection', 'cause fungal infection', 'symptom fungal infection', 'symptom fungal infection', 'type fungal infection', 'different type fungal infection', 'fungal infection treatment', 'overcome fungal infection', 'treatment fungal infection', 'prevent fungal infection', 'prevention fungal infection', 'prevent fungal infection']\n"
          ]
        }
      ]
    },
    {
      "cell_type": "code",
      "metadata": {
        "id": "AtEvxx05kbQs"
      },
      "source": [
        "from sklearn.preprocessing import OneHotEncoder\n",
        "encoder = OneHotEncoder()\n",
        "y = encoder.fit_transform(np.array(tags).reshape(-1,1))"
      ],
      "execution_count": null,
      "outputs": []
    },
    {
      "cell_type": "code",
      "metadata": {
        "colab": {
          "base_uri": "https://localhost:8080/"
        },
        "id": "_EWPLMxCkmQs",
        "outputId": "1ace75a3-a0f7-4574-e7ab-46fa0d8cf3e4"
      },
      "source": [
        "from tensorflow.keras import Sequential\n",
        "from tensorflow.keras.layers import Dense, Dropout\n",
        "model = Sequential([\n",
        "\n",
        "Dense(128, input_shape=(X.shape[1],), activation='relu'), Dropout(0.2), Dense(64, activation='relu'), Dropout(0.2), \n",
        "Dense(y.shape[1], activation='softmax')])\n",
        "model.compile(loss='categorical_crossentropy', optimizer='adam',\n",
        "metrics=['accuracy'])\n",
        "history = model.fit(X.toarray(), y.toarray(), epochs=20, batch_size=1)"
      ],
      "execution_count": null,
      "outputs": [
        {
          "output_type": "stream",
          "name": "stdout",
          "text": [
            "Epoch 1/20\n",
            "84/84 [==============================] - 0s 1ms/step - loss: 3.1251 - accuracy: 0.0833\n",
            "Epoch 2/20\n",
            "84/84 [==============================] - 0s 1ms/step - loss: 3.0276 - accuracy: 0.2262\n",
            "Epoch 3/20\n",
            "84/84 [==============================] - 0s 1ms/step - loss: 2.8714 - accuracy: 0.2143\n",
            "Epoch 4/20\n",
            "84/84 [==============================] - 0s 2ms/step - loss: 2.6390 - accuracy: 0.3214\n",
            "Epoch 5/20\n",
            "84/84 [==============================] - 0s 2ms/step - loss: 2.3536 - accuracy: 0.4405\n",
            "Epoch 6/20\n",
            "84/84 [==============================] - 0s 1ms/step - loss: 2.0320 - accuracy: 0.5000\n",
            "Epoch 7/20\n",
            "84/84 [==============================] - 0s 1ms/step - loss: 1.6087 - accuracy: 0.6429\n",
            "Epoch 8/20\n",
            "84/84 [==============================] - 0s 1ms/step - loss: 1.3443 - accuracy: 0.6667\n",
            "Epoch 9/20\n",
            "84/84 [==============================] - 0s 2ms/step - loss: 1.0678 - accuracy: 0.7738\n",
            "Epoch 10/20\n",
            "84/84 [==============================] - 0s 2ms/step - loss: 0.8353 - accuracy: 0.8214\n",
            "Epoch 11/20\n",
            "84/84 [==============================] - 0s 1ms/step - loss: 0.6437 - accuracy: 0.8810\n",
            "Epoch 12/20\n",
            "84/84 [==============================] - 0s 2ms/step - loss: 0.6205 - accuracy: 0.8929\n",
            "Epoch 13/20\n",
            "84/84 [==============================] - 0s 1ms/step - loss: 0.5481 - accuracy: 0.8929\n",
            "Epoch 14/20\n",
            "84/84 [==============================] - 0s 1ms/step - loss: 0.3894 - accuracy: 0.9286\n",
            "Epoch 15/20\n",
            "84/84 [==============================] - 0s 1ms/step - loss: 0.3978 - accuracy: 0.8929\n",
            "Epoch 16/20\n",
            "84/84 [==============================] - 0s 1ms/step - loss: 0.3397 - accuracy: 0.9167\n",
            "Epoch 17/20\n",
            "84/84 [==============================] - 0s 1ms/step - loss: 0.3451 - accuracy: 0.9048\n",
            "Epoch 18/20\n",
            "84/84 [==============================] - 0s 2ms/step - loss: 0.2718 - accuracy: 0.9167\n",
            "Epoch 19/20\n",
            "84/84 [==============================] - 0s 2ms/step - loss: 0.2745 - accuracy: 0.9286\n",
            "Epoch 20/20\n",
            "84/84 [==============================] - 0s 1ms/step - loss: 0.2111 - accuracy: 0.9286\n"
          ]
        }
      ]
    },
    {
      "cell_type": "code",
      "metadata": {
        "id": "xJt0R4w_O_ID"
      },
      "source": [
        "model.save(\"health_version_0.0.1.h5\")"
      ],
      "execution_count": null,
      "outputs": []
    },
    {
      "cell_type": "code",
      "metadata": {
        "id": "bbuZ2TJ9mz4x",
        "colab": {
          "base_uri": "https://localhost:8080/"
        },
        "outputId": "436e553a-38fc-403e-b28d-d1709459757b"
      },
      "source": [
        "X.shape"
      ],
      "execution_count": null,
      "outputs": [
        {
          "output_type": "execute_result",
          "data": {
            "text/plain": [
              "(84, 60)"
            ]
          },
          "metadata": {},
          "execution_count": 28
        }
      ]
    },
    {
      "cell_type": "code",
      "metadata": {
        "id": "fy-AtY0KurhF",
        "colab": {
          "base_uri": "https://localhost:8080/"
        },
        "outputId": "a70b6606-e2da-4e3f-f955-2c9a5818a216"
      },
      "source": [
        "y.shape"
      ],
      "execution_count": null,
      "outputs": [
        {
          "output_type": "execute_result",
          "data": {
            "text/plain": [
              "(84, 23)"
            ]
          },
          "metadata": {},
          "execution_count": 29
        }
      ]
    },
    {
      "cell_type": "code",
      "metadata": {
        "id": "qQIJExMzuybW",
        "colab": {
          "base_uri": "https://localhost:8080/"
        },
        "outputId": "b5f37ca0-de44-4c46-e93e-0afd724edeff"
      },
      "source": [
        "INTENT_NOT_FOUND_THRESHOLD = 0.40\n",
        "def predict_intent_tag(message):\n",
        "    message = clean_corpus([message])\n",
        "    X_test = vectorizer.transform(message)\n",
        "    y = model.predict(X_test.toarray())\n",
        "    # if probability of all intent is low, classify it as noanswer\n",
        "    if y.max() < INTENT_NOT_FOUND_THRESHOLD:\n",
        "        return 'noanswer'\n",
        "    prediction = np.zeros_like(y[0])\n",
        "    prediction[y.argmax()] = 1\n",
        "    tag = encoder.inverse_transform([prediction])[0][0]\n",
        "    return tag\n",
        "print(predict_intent_tag('Hi'))\n",
        "print(predict_intent_tag('See you later'))\n",
        "print(predict_intent_tag('Tell me about yourself'))"
      ],
      "execution_count": null,
      "outputs": [
        {
          "output_type": "stream",
          "name": "stdout",
          "text": [
            "greetings\n",
            "goodbye\n",
            "about\n"
          ]
        }
      ]
    },
    {
      "cell_type": "code",
      "metadata": {
        "id": "nLnyHX5RH5ZM"
      },
      "source": [
        "import random\n",
        "import time\n",
        "def get_intent(tag):\n",
        "    # to return complete intent from intent tag\n",
        "    for intent in intents['intents']:\n",
        "        if intent['tag'] == tag:\n",
        "            return intent"
      ],
      "execution_count": null,
      "outputs": []
    },
    {
      "cell_type": "code",
      "metadata": {
        "colab": {
          "base_uri": "https://localhost:8080/"
        },
        "id": "WbUcJLBXIT5J",
        "outputId": "2391a299-e87c-4628-8d34-a9ab1e6a4183"
      },
      "source": [
        "while True:\n",
        "    # get message from user\n",
        "    message = input('You: ')\n",
        "    # predict intent tag using trained neural network\n",
        "    tag = predict_intent_tag(message)\n",
        "    # get complete intent from intent tag\n",
        "    intent = get_intent(tag)\n",
        "    # generate random response from intent\n",
        "    response = random.choice(intent['responses'])\n",
        "    print('Bot: ', response)\n",
        "    # check if there's a need to perform some action\n",
        "    if 'action' in intent.keys():\n",
        "        action_code = intent['action']\n",
        "        # perform action\n",
        "        data = perform_action(action_code, intent)\n",
        "        # get follow up intent after performing action\n",
        "        followup_intent = get_intent(data['intent-tag'])\n",
        "        # generate random response from follow up intent\n",
        "        response = random.choice(followup_intent['responses'])\n",
        "        # print randomly selected response\n",
        "        if len(data.keys()) > 1:\n",
        "            print('Bot: ', response.format(**data))\n",
        "        else:\n",
        "            print('Bot: ', response)\n",
        "    # break loop if intent was goodbye\n",
        "    if tag == 'goodbye':\n",
        "        break"
      ],
      "execution_count": null,
      "outputs": [
        {
          "output_type": "stream",
          "name": "stdout",
          "text": [
            "You: Who are your creator\n",
            "Bot:  Hey! I love that question! My name is Doc, and I want to be your health friend and support you! My fellow human friends have trained me to be a compassionate listener and support buddy when things are going well, and particularily when things aren't going so well.\n",
            "You: how to cure anxiety\n",
            "Bot:  I see that you want to learn more about anxiety, and how to support yourself or your loved ones. At the higest level, anxiety is your body's natural response to stress. It's a feeling of fear or apprehension about what's to come. The first day of school, going to a job interview, or giving a speech may cause most people to feel fearful and nervous. We all get anxious sometimes, but anxiety becomes a problem when it starts affecting your daily life drastically. The best thing that you can do to help reduce anxiety is to take a few deep breaths and talk to someone about what you're feeling. Some natural remedies that you can try include: getting enough sleep meditating, staying active and exercising, eating a healthy diet, staying active and working out, avoiding alcohol, avoiding caffeine, and quitting smoking cigarettes. Support your friends and loved ones by checking up on them and just listening. Whatever you're feeling is valid.\n",
            "You: symptoms of anxiety\n",
            "Bot:  Feeling jumpy, easily startled or dizzy, Shortness of breath, shaking, fatigue, problem focusing\n",
            "You: how to deal with anxiety\n",
            "Bot:  Talk to someone about your anxiety, Find ways to relax, Practice deep breathing, Eat a variety of healthy foods,Create a regular sleep routine\n",
            "You: goodbye\n",
            "Bot:  Have a lovely day! Take care and stay safe!\n"
          ]
        }
      ]
    }
  ]
}